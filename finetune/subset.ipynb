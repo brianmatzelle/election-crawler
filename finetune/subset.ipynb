{
 "cells": [
  {
   "cell_type": "markdown",
   "metadata": {},
   "source": [
    "# About\n",
    "This notebook is used to create a subset of the dataset for finetuning a GPT-style conversational language model."
   ]
  },
  {
   "cell_type": "markdown",
   "metadata": {},
   "source": [
    "## Config"
   ]
  },
  {
   "cell_type": "markdown",
   "metadata": {},
   "source": []
  },
  {
   "cell_type": "code",
   "execution_count": 1,
   "metadata": {
    "ExecuteTime": {
     "end_time": "2024-12-06T02:53:43.776384Z",
     "start_time": "2024-12-06T02:53:43.772717Z"
    }
   },
   "outputs": [
    {
     "name": "stdout",
     "output_type": "stream",
     "text": [
      "SUBREDDITS: ['hasan_piker']\n",
      "HUGGINGFACE_BASE_DATASET: 2024-election-subreddit-threads-173k\n",
      "HUGGINGFACE_SUBSET_DATASET: 2024-election-hasan_piker-threads-\n"
     ]
    }
   ],
   "source": [
    "from typing import List\n",
    "# Config\n",
    "  # ALL SUBREDDITS == ['destiny' 'hasan_piker' 'politics' 'vaushv' 'millenials' 'news'\n",
    "  # 'worldnews' 'economics' 'socialism' 'conservative' 'libertarian'\n",
    "  # 'neoliberal' 'republican' 'democrats' 'progressive' 'daverubin'\n",
    "  # 'jordanpeterson' 'samharris' 'joerogan' 'thedavidpakmanshow' 'benshapiro'\n",
    "  # 'themajorityreport' 'seculartalk']\n",
    "SUBREDDITS: List[str] = ['hasan_piker']\n",
    "# HUGGINGFACE_USER = 'brianmatzelle'\n",
    "HUGGINGFACE_USER: str = 'BinghamtonUniversity'\n",
    "K_COUNT: int = 173\n",
    "HUGGINGFACE_BASE_DATASET: str = f'2024-election-subreddit-threads-{K_COUNT}k'\n",
    "\n",
    "# Subset Config\n",
    "SUBREDDIT_NAME: str = \"-\".join(SUBREDDITS)\n",
    "HUGGINGFACE_SUBSET_DATASET: str = f'{HUGGINGFACE_BASE_DATASET.replace(\"subreddit\", SUBREDDIT_NAME)}'\n",
    "\n",
    "\n",
    "# DO NOT EDIT BELOW THIS LINE\n",
    "# remove -173k from the subset dataset name\n",
    "if HUGGINGFACE_SUBSET_DATASET.endswith(f'-{K_COUNT}k'):\n",
    "  HUGGINGFACE_SUBSET_DATASET = HUGGINGFACE_SUBSET_DATASET[:-4]\n",
    "\n",
    "# Print config\n",
    "print(f'SUBREDDITS: {SUBREDDITS}')\n",
    "print(f'HUGGINGFACE_BASE_DATASET: {HUGGINGFACE_BASE_DATASET}')\n",
    "print(f'HUGGINGFACE_SUBSET_DATASET: {HUGGINGFACE_SUBSET_DATASET}')"
   ]
  },
  {
   "cell_type": "code",
   "execution_count": 2,
   "metadata": {
    "ExecuteTime": {
     "end_time": "2024-12-06T02:53:48.704429Z",
     "start_time": "2024-12-06T02:53:46.435620Z"
    }
   },
   "outputs": [
    {
     "name": "stderr",
     "output_type": "stream",
     "text": [
      "\u001b[32m2024-12-11 01:20:09.904\u001b[0m | \u001b[1mINFO    \u001b[0m | \u001b[36m__main__\u001b[0m:\u001b[36m<module>\u001b[0m:\u001b[36m9\u001b[0m - \u001b[1mPrefilter dataset size: 173k\u001b[0m\n"
     ]
    },
    {
     "data": {
      "text/plain": [
       "{'conversations': [{'content': 'The GOP\\'s big, mysterious enemy: \"They\"',\n",
       "   'metadata': {'author': 'Steve____Stifler',\n",
       "    'controversiality': None,\n",
       "    'created_utc': 1721334266,\n",
       "    'downvotes': 0,\n",
       "    'flair': 'News (US)',\n",
       "    'is_submitter': None,\n",
       "    'no_follow': True,\n",
       "    'removed_by_category': 'moderator',\n",
       "    'score': 343,\n",
       "    'suggested_sort': None,\n",
       "    'title': 'The GOP\\'s big, mysterious enemy: \"They\"',\n",
       "    'total_awards_received': 0,\n",
       "    'upvote_ratio': 0.97,\n",
       "    'upvotes': 343},\n",
       "   'role': 'user'},\n",
       "  {'content': '\"Well who\\'s \\'THEY\\'?? ... ... What the hell is an Aluminium Falcon?\"',\n",
       "   'metadata': {'author': 'mad_cheese_hattwe',\n",
       "    'controversiality': 0,\n",
       "    'created_utc': 1721336569,\n",
       "    'downvotes': 0,\n",
       "    'flair': None,\n",
       "    'is_submitter': False,\n",
       "    'no_follow': True,\n",
       "    'removed_by_category': None,\n",
       "    'score': 30,\n",
       "    'suggested_sort': None,\n",
       "    'title': None,\n",
       "    'total_awards_received': 0,\n",
       "    'upvote_ratio': None,\n",
       "    'upvotes': 30},\n",
       "   'role': 'assistant'},\n",
       "  {'content': '\"Oh oh oh, I\\'m sorry, I thought my dark lord of the Sith could protect a small thermal exhaust port that\\'s only two meters wide!\"',\n",
       "   'metadata': {'author': 'jad4400',\n",
       "    'controversiality': 0,\n",
       "    'created_utc': 1721339621,\n",
       "    'downvotes': 0,\n",
       "    'flair': None,\n",
       "    'is_submitter': False,\n",
       "    'no_follow': True,\n",
       "    'removed_by_category': None,\n",
       "    'score': 11,\n",
       "    'suggested_sort': None,\n",
       "    'title': None,\n",
       "    'total_awards_received': 0,\n",
       "    'upvote_ratio': None,\n",
       "    'upvotes': 11},\n",
       "   'role': 'user'},\n",
       "  {'content': '\"...He\\'s _crying!_\"',\n",
       "   'metadata': {'author': 'SharkSymphony',\n",
       "    'controversiality': 0,\n",
       "    'created_utc': 1721341074,\n",
       "    'downvotes': 0,\n",
       "    'flair': None,\n",
       "    'is_submitter': False,\n",
       "    'no_follow': True,\n",
       "    'removed_by_category': None,\n",
       "    'score': 7,\n",
       "    'suggested_sort': None,\n",
       "    'title': None,\n",
       "    'total_awards_received': 0,\n",
       "    'upvote_ratio': None,\n",
       "    'upvotes': 7},\n",
       "   'role': 'assistant'}],\n",
       " 'metadata': {'controversiality': 0,\n",
       "  'normalized_controversiality': 0.0,\n",
       "  'post': {'author': 'Steve____Stifler',\n",
       "   'created_utc': 1721334266,\n",
       "   'downvotes': 0,\n",
       "   'flair': 'News (US)',\n",
       "   'no_follow': True,\n",
       "   'removed_by_category': 'moderator',\n",
       "   'score': 343,\n",
       "   'suggested_sort': None,\n",
       "   'title': 'The GOP\\'s big, mysterious enemy: \"They\"',\n",
       "   'total_awards_received': 0,\n",
       "   'upvote_ratio': 0.97,\n",
       "   'upvotes': 343},\n",
       "  'subreddit': {'name': 'neoliberal', 'subscribers': 177896}}}"
      ]
     },
     "execution_count": 2,
     "metadata": {},
     "output_type": "execute_result"
    }
   ],
   "source": [
    "from datasets import load_dataset, Dataset\n",
    "\n",
    "dataset: Dataset = load_dataset(f\"{HUGGINGFACE_USER}/{HUGGINGFACE_BASE_DATASET}\", split = \"train\")\n",
    "# load locally bc im on a place\n",
    "# dataset = load_dataset('json', data_files=f'data/datasets/2024-election-subreddit-threads-{K_COUNT}k.json', split='train')\n",
    "\n",
    "from utils import to_k\n",
    "from loguru import logger\n",
    "logger.info(f\"Prefilter dataset size: {to_k(len(dataset))}\")\n",
    "dataset[0]"
   ]
  },
  {
   "cell_type": "markdown",
   "metadata": {},
   "source": [
    "## To Do (Analysis)\n",
    "Give the user the option to run an analysis on the dataset.\n",
    "\n",
    "Move these next two cells to an analysis function, add more/better analysis."
   ]
  },
  {
   "cell_type": "code",
   "execution_count": 3,
   "metadata": {
    "ExecuteTime": {
     "end_time": "2024-12-06T02:54:44.461343Z",
     "start_time": "2024-12-06T02:54:13.393775Z"
    }
   },
   "outputs": [],
   "source": [
    "# from typing import Dict\n",
    "# from collections import Counter\n",
    "\n",
    "# # Count the posts in each subreddit\n",
    "# subreddit_counts: Counter = Counter(post['metadata']['subreddit']['name'] for post in dataset)\n",
    "\n",
    "# # Sort by the number of posts in descending order\n",
    "# ranked_subreddits: List[tuple[str, int]] = sorted(subreddit_counts.items(), key=lambda x: x[1], reverse=True)\n",
    "\n",
    "# # Get subscriber count for each subreddit\n",
    "# subs_map: Dict[str, int] = {}\n",
    "# for post in dataset:\n",
    "#     sr_metadata = post['metadata']['subreddit']\n",
    "#     subreddit_name = sr_metadata['name']\n",
    "#     if subreddit_name not in subs_map:\n",
    "#         subs_map[subreddit_name] = sr_metadata.get('subscribers', 0)\n",
    "\n",
    "# # Print rankings\n",
    "# for i, (subreddit, count) in enumerate(ranked_subreddits, start=1):\n",
    "#     subs = subs_map.get(subreddit, 0)\n",
    "#     print(f\"{i}. r/{subreddit}: {count} posts, {subs} subs\")\n",
    "\n",
    "# # Optionally log the results if needed\n",
    "# logger.info(f\"Subreddit ranking:\\n{ranked_subreddits}\")"
   ]
  },
  {
   "cell_type": "code",
   "execution_count": 4,
   "metadata": {},
   "outputs": [],
   "source": [
    "# # show most controversial posts\n",
    "# from collections import defaultdict\n",
    "# from pprint import pprint\n",
    "\n",
    "# # Create a dictionary to store the posts for each subreddit\n",
    "# controversiality = defaultdict(list)\n",
    "# for post in dataset:\n",
    "#     if post['metadata']['controversiality'] < 90:\n",
    "#         continue\n",
    "#     controversiality[post['metadata']['controversiality']] += post\n",
    "\n",
    "\n",
    "# # print the controversiality\n",
    "# pprint(controversiality)"
   ]
  },
  {
   "cell_type": "code",
   "execution_count": 5,
   "metadata": {},
   "outputs": [],
   "source": [
    "# To Do: Dynamically choose refinement options\n",
    "# Give the user (the one running this notebook) config options after viewing the data, so they can curate a dataset of their own."
   ]
  },
  {
   "cell_type": "code",
   "execution_count": 6,
   "metadata": {},
   "outputs": [
    {
     "name": "stderr",
     "output_type": "stream",
     "text": [
      "\u001b[32m2024-12-11 01:20:09.964\u001b[0m | \u001b[1mINFO    \u001b[0m | \u001b[36m__main__\u001b[0m:\u001b[36m<module>\u001b[0m:\u001b[36m3\u001b[0m - \u001b[1mFiltered 171k posts from the dataset\u001b[0m\n",
      "\u001b[32m2024-12-11 01:20:09.965\u001b[0m | \u001b[1mINFO    \u001b[0m | \u001b[36m__main__\u001b[0m:\u001b[36m<module>\u001b[0m:\u001b[36m7\u001b[0m - \u001b[1mDataset size: 2k posts\u001b[0m\n"
     ]
    },
    {
     "data": {
      "text/plain": [
       "{'conversations': [{'content': 'Bernie, Come back! We need u!',\n",
       "   'metadata': {'author': 'jared10011980',\n",
       "    'controversiality': None,\n",
       "    'created_utc': 1721598961,\n",
       "    'downvotes': 0,\n",
       "    'flair': None,\n",
       "    'is_submitter': None,\n",
       "    'no_follow': False,\n",
       "    'removed_by_category': None,\n",
       "    'score': 433,\n",
       "    'suggested_sort': None,\n",
       "    'title': 'Bernie, Come back! We need u!',\n",
       "    'total_awards_received': 0,\n",
       "    'upvote_ratio': 0.81,\n",
       "    'upvotes': 433},\n",
       "   'role': 'user'},\n",
       "  {'content': 'Kamala’s voting record isn’t bad and is certainly more progressive than *many* senators. She’s also not as rabidly pro-Israel as Biden (but that’s a low fucking bar). It’s very possible and even probable that she’ll govern more progressively than Biden.\\n\\nShe’s still a centrist neolib and a cop (prosecutor) that jailed a ton of minorities.\\n\\nBoth of these things can be true. We don’t need to be circle jerking Kamala, she’s not a leftist nor a beacon of progressivism. Voting for her is just a lesser of 2 evils situation, just like with Biden. It’s nice that she’s less evil than Biden though.',\n",
       "   'metadata': {'author': 'spotless1997',\n",
       "    'controversiality': 0,\n",
       "    'created_utc': 1721619884,\n",
       "    'downvotes': 0,\n",
       "    'flair': None,\n",
       "    'is_submitter': False,\n",
       "    'no_follow': False,\n",
       "    'removed_by_category': None,\n",
       "    'score': 654,\n",
       "    'suggested_sort': None,\n",
       "    'title': None,\n",
       "    'total_awards_received': 0,\n",
       "    'upvote_ratio': None,\n",
       "    'upvotes': 654},\n",
       "   'role': 'assistant'},\n",
       "  {'content': \"If she's smart, she'll take a progressive VP and actually listen to them. Not only would she be more likely to win some of the younger voters over, but the US might even see some progressive policies come from it. Even if she's a Neo-Liberal, and her VP is progressive, and they meet somewhere in the middle on policy, it's a shift in the right direction at least.\\n\\nWhat's the best way to eat an elephant?\\n\\nOne bite at a time\",\n",
       "   'metadata': {'author': 'Xpalidocious',\n",
       "    'controversiality': 0,\n",
       "    'created_utc': 1721626102,\n",
       "    'downvotes': 0,\n",
       "    'flair': None,\n",
       "    'is_submitter': False,\n",
       "    'no_follow': False,\n",
       "    'removed_by_category': None,\n",
       "    'score': 104,\n",
       "    'suggested_sort': None,\n",
       "    'title': None,\n",
       "    'total_awards_received': 0,\n",
       "    'upvote_ratio': None,\n",
       "    'upvotes': 104},\n",
       "   'role': 'user'},\n",
       "  {'content': 'We’re not getting a VP based on policy. We’re gettigg someone who will boost her in key states. Almost certainly a white guy',\n",
       "   'metadata': {'author': 'blud97',\n",
       "    'controversiality': 0,\n",
       "    'created_utc': 1721634762,\n",
       "    'downvotes': 0,\n",
       "    'flair': None,\n",
       "    'is_submitter': False,\n",
       "    'no_follow': False,\n",
       "    'removed_by_category': None,\n",
       "    'score': 118,\n",
       "    'suggested_sort': None,\n",
       "    'title': None,\n",
       "    'total_awards_received': 0,\n",
       "    'upvote_ratio': None,\n",
       "    'upvotes': 118},\n",
       "   'role': 'assistant'},\n",
       "  {'content': 'And after the race he will be politically irrelevant, imagine Obama’s Joe Biden, can you remember any of his achievements from his 8 years as VP?\\n\\nIf she wins she definitely tries reelection and a progressive would just be wasted doing a show pony’s job for 2 terms. Also another escape valve for the administration: “Look the president stands with our ally and the bombing but the VP made a strong speech yesterday about protecting innocent civilians and how (insert country) needs to do better.”',\n",
       "   'metadata': {'author': 'brutamborra',\n",
       "    'controversiality': 0,\n",
       "    'created_utc': 1721635882,\n",
       "    'downvotes': 0,\n",
       "    'flair': None,\n",
       "    'is_submitter': False,\n",
       "    'no_follow': False,\n",
       "    'removed_by_category': None,\n",
       "    'score': 16,\n",
       "    'suggested_sort': None,\n",
       "    'title': None,\n",
       "    'total_awards_received': 0,\n",
       "    'upvote_ratio': None,\n",
       "    'upvotes': 16},\n",
       "   'role': 'user'},\n",
       "  {'content': '\"an you remember any of his achievements from his 8 years as VP?\" the Uncle Joe memes',\n",
       "   'metadata': {'author': 'AQ207',\n",
       "    'controversiality': 0,\n",
       "    'created_utc': 1721670426,\n",
       "    'downvotes': 0,\n",
       "    'flair': None,\n",
       "    'is_submitter': False,\n",
       "    'no_follow': True,\n",
       "    'removed_by_category': None,\n",
       "    'score': 1,\n",
       "    'suggested_sort': None,\n",
       "    'title': None,\n",
       "    'total_awards_received': 0,\n",
       "    'upvote_ratio': None,\n",
       "    'upvotes': 1},\n",
       "   'role': 'assistant'}],\n",
       " 'metadata': {'controversiality': 0,\n",
       "  'normalized_controversiality': 0.0,\n",
       "  'post': {'author': 'jared10011980',\n",
       "   'created_utc': 1721598961,\n",
       "   'downvotes': 0,\n",
       "   'flair': None,\n",
       "   'no_follow': False,\n",
       "   'removed_by_category': None,\n",
       "   'score': 433,\n",
       "   'suggested_sort': None,\n",
       "   'title': 'Bernie, Come back! We need u!',\n",
       "   'total_awards_received': 0,\n",
       "   'upvote_ratio': 0.81,\n",
       "   'upvotes': 433},\n",
       "  'subreddit': {'name': 'hasan_piker', 'subscribers': 143479}}}"
      ]
     },
     "execution_count": 6,
     "metadata": {},
     "output_type": "execute_result"
    }
   ],
   "source": [
    "# remove posts that are not in the SUBREDDITS list\n",
    "filtered_dataset = dataset.filter(lambda x: x['metadata']['subreddit']['name'] in SUBREDDITS)\n",
    "logger.info(f\"Filtered {to_k(len(dataset) - len(filtered_dataset))} posts from the dataset\")\n",
    "del dataset\n",
    "\n",
    "filtered_size_k = to_k(len(filtered_dataset))\n",
    "logger.info(f\"Dataset size: {filtered_size_k} posts\")\n",
    "\n",
    "# Append the new size to the subset dataset name before saving\n",
    "HUGGINGFACE_SUBSET_DATASET += f\"{filtered_size_k}\"\n",
    "\n",
    "filtered_dataset[0]"
   ]
  },
  {
   "cell_type": "code",
   "execution_count": 7,
   "metadata": {},
   "outputs": [
    {
     "name": "stderr",
     "output_type": "stream",
     "text": [
      "\u001b[32m2024-12-11 01:20:10.322\u001b[0m | \u001b[1mINFO    \u001b[0m | \u001b[36m__main__\u001b[0m:\u001b[36m<module>\u001b[0m:\u001b[36m4\u001b[0m - \u001b[1mCompletely removed metadata from each message in the dataset\u001b[0m\n"
     ]
    },
    {
     "data": {
      "text/plain": [
       "{'conversations': [{'content': 'Bernie, Come back! We need u!',\n",
       "   'role': 'user'},\n",
       "  {'content': 'Kamala’s voting record isn’t bad and is certainly more progressive than *many* senators. She’s also not as rabidly pro-Israel as Biden (but that’s a low fucking bar). It’s very possible and even probable that she’ll govern more progressively than Biden.\\n\\nShe’s still a centrist neolib and a cop (prosecutor) that jailed a ton of minorities.\\n\\nBoth of these things can be true. We don’t need to be circle jerking Kamala, she’s not a leftist nor a beacon of progressivism. Voting for her is just a lesser of 2 evils situation, just like with Biden. It’s nice that she’s less evil than Biden though.',\n",
       "   'role': 'assistant'},\n",
       "  {'content': \"If she's smart, she'll take a progressive VP and actually listen to them. Not only would she be more likely to win some of the younger voters over, but the US might even see some progressive policies come from it. Even if she's a Neo-Liberal, and her VP is progressive, and they meet somewhere in the middle on policy, it's a shift in the right direction at least.\\n\\nWhat's the best way to eat an elephant?\\n\\nOne bite at a time\",\n",
       "   'role': 'user'},\n",
       "  {'content': 'We’re not getting a VP based on policy. We’re gettigg someone who will boost her in key states. Almost certainly a white guy',\n",
       "   'role': 'assistant'},\n",
       "  {'content': 'And after the race he will be politically irrelevant, imagine Obama’s Joe Biden, can you remember any of his achievements from his 8 years as VP?\\n\\nIf she wins she definitely tries reelection and a progressive would just be wasted doing a show pony’s job for 2 terms. Also another escape valve for the administration: “Look the president stands with our ally and the bombing but the VP made a strong speech yesterday about protecting innocent civilians and how (insert country) needs to do better.”',\n",
       "   'role': 'user'},\n",
       "  {'content': '\"an you remember any of his achievements from his 8 years as VP?\" the Uncle Joe memes',\n",
       "   'role': 'assistant'}]}"
      ]
     },
     "execution_count": 7,
     "metadata": {},
     "output_type": "execute_result"
    }
   ],
   "source": [
    "subset = {'conversations': []}\n",
    "for post in filtered_dataset:\n",
    "    subset['conversations'].append([{'content': msg['content'], 'role': msg['role']} for msg in post['conversations']])\n",
    "logger.info(\"Completely removed metadata from each message in the dataset\")\n",
    "subset = Dataset.from_dict(subset)\n",
    "subset[0]"
   ]
  },
  {
   "cell_type": "code",
   "execution_count": 9,
   "metadata": {},
   "outputs": [
    {
     "data": {
      "application/vnd.jupyter.widget-view+json": {
       "model_id": "a7f6df21322944d4885531ff9279aec5",
       "version_major": 2,
       "version_minor": 0
      },
      "text/plain": [
       "Creating json from Arrow format:   0%|          | 0/3 [00:00<?, ?ba/s]"
      ]
     },
     "metadata": {},
     "output_type": "display_data"
    },
    {
     "data": {
      "application/vnd.jupyter.widget-view+json": {
       "model_id": "72c742dedb30420c992c5951f51998b3",
       "version_major": 2,
       "version_minor": 0
      },
      "text/plain": [
       "Creating json from Arrow format:   0%|          | 0/3 [00:00<?, ?ba/s]"
      ]
     },
     "metadata": {},
     "output_type": "display_data"
    },
    {
     "data": {
      "application/vnd.jupyter.widget-view+json": {
       "model_id": "9fb5dd444d01469b9fb9b39f03afd219",
       "version_major": 2,
       "version_minor": 0
      },
      "text/plain": [
       "Creating json from Arrow format:   0%|          | 0/1 [00:00<?, ?ba/s]"
      ]
     },
     "metadata": {},
     "output_type": "display_data"
    },
    {
     "data": {
      "text/plain": [
       "{'messages': [{'content': 'Bernie, Come back! We need u!', 'role': 'user'},\n",
       "  {'content': 'Kamala’s voting record isn’t bad and is certainly more progressive than *many* senators. She’s also not as rabidly pro-Israel as Biden (but that’s a low fucking bar). It’s very possible and even probable that she’ll govern more progressively than Biden.\\n\\nShe’s still a centrist neolib and a cop (prosecutor) that jailed a ton of minorities.\\n\\nBoth of these things can be true. We don’t need to be circle jerking Kamala, she’s not a leftist nor a beacon of progressivism. Voting for her is just a lesser of 2 evils situation, just like with Biden. It’s nice that she’s less evil than Biden though.',\n",
       "   'role': 'assistant'},\n",
       "  {'content': \"If she's smart, she'll take a progressive VP and actually listen to them. Not only would she be more likely to win some of the younger voters over, but the US might even see some progressive policies come from it. Even if she's a Neo-Liberal, and her VP is progressive, and they meet somewhere in the middle on policy, it's a shift in the right direction at least.\\n\\nWhat's the best way to eat an elephant?\\n\\nOne bite at a time\",\n",
       "   'role': 'user'},\n",
       "  {'content': 'We’re not getting a VP based on policy. We’re gettigg someone who will boost her in key states. Almost certainly a white guy',\n",
       "   'role': 'assistant'},\n",
       "  {'content': 'And after the race he will be politically irrelevant, imagine Obama’s Joe Biden, can you remember any of his achievements from his 8 years as VP?\\n\\nIf she wins she definitely tries reelection and a progressive would just be wasted doing a show pony’s job for 2 terms. Also another escape valve for the administration: “Look the president stands with our ally and the bombing but the VP made a strong speech yesterday about protecting innocent civilians and how (insert country) needs to do better.”',\n",
       "   'role': 'user'},\n",
       "  {'content': '\"an you remember any of his achievements from his 8 years as VP?\" the Uncle Joe memes',\n",
       "   'role': 'assistant'}]}"
      ]
     },
     "execution_count": 9,
     "metadata": {},
     "output_type": "execute_result"
    }
   ],
   "source": [
    "# OPTIONAL: Prepare for OpenAI\n",
    "openai_subset = subset\n",
    "openai_subset = openai_subset.rename_column(\"conversations\", \"messages\")\n",
    "# add a new column for weight, make every value 1\n",
    "# openai_subset = openai_subset.add_column(\"weight\", [1] * len(openai_subset))\n",
    "\n",
    "import os\n",
    "DIR_PATH: str = \"data/subsets/openai\"\n",
    "os.makedirs(f\"{DIR_PATH}/{SUBREDDIT_NAME}\", exist_ok=True)\n",
    "\n",
    "# save complete subset to jsonl file\n",
    "openai_subset.to_json(f\"{DIR_PATH}/{SUBREDDIT_NAME}/{HUGGINGFACE_SUBSET_DATASET}-openai.jsonl\", lines=True)\n",
    "\n",
    "# split into train and test\n",
    "train_subset, test_subset = openai_subset.train_test_split(test_size=0.1).values()\n",
    "\n",
    "# save train and test subsets to jsonl files\n",
    "train_subset.to_json(f\"{DIR_PATH}/{SUBREDDIT_NAME}/{HUGGINGFACE_SUBSET_DATASET}-openai-train.jsonl\", lines=True)\n",
    "test_subset.to_json(f\"{DIR_PATH}/{SUBREDDIT_NAME}/{HUGGINGFACE_SUBSET_DATASET}-openai-test.jsonl\", lines=True)\n",
    "\n",
    "# save openai_subset to jsonl file\n",
    "# openai_subset.to_json(f\"data/subsets/{HUGGINGFACE_SUBSET_DATASET}-openai.jsonl\", lines=True)\n",
    "openai_subset[0]"
   ]
  },
  {
   "cell_type": "markdown",
   "metadata": {},
   "source": [
    "## To Do\n",
    "Give the user option to analyze the dataset again, after removing unwanted subreddits."
   ]
  },
  {
   "cell_type": "code",
   "execution_count": 10,
   "metadata": {},
   "outputs": [],
   "source": [
    "# save locally\n",
    "# subset.to_json(f\"data/subsets/{HUGGINGFACE_SUBSET_DATASET}.json\")"
   ]
  },
  {
   "cell_type": "markdown",
   "metadata": {},
   "source": [
    "## Push to Hub\n",
    "Before you can run this cell, you need to\n",
    "\n",
    "1. `pip install huggingface_hub`\n",
    "2. `huggingface-cli login`\n",
    "\n",
    "OR\n",
    "\n",
    "In your shell, run\n",
    "1. `export HF_TOKEN=YOUR_WRITE_ACCESS_TOKEN_FROM_HUGGINGFACE`"
   ]
  },
  {
   "cell_type": "code",
   "execution_count": 11,
   "metadata": {},
   "outputs": [
    {
     "data": {
      "application/vnd.jupyter.widget-view+json": {
       "model_id": "51b0a07c4e454f45a323f36b30d8b8d1",
       "version_major": 2,
       "version_minor": 0
      },
      "text/plain": [
       "Uploading the dataset shards:   0%|          | 0/1 [00:00<?, ?it/s]"
      ]
     },
     "metadata": {},
     "output_type": "display_data"
    },
    {
     "data": {
      "application/vnd.jupyter.widget-view+json": {
       "model_id": "3990597bc4ff4576bdf361d7ec24d0d3",
       "version_major": 2,
       "version_minor": 0
      },
      "text/plain": [
       "Creating parquet from Arrow format:   0%|          | 0/3 [00:00<?, ?ba/s]"
      ]
     },
     "metadata": {},
     "output_type": "display_data"
    },
    {
     "data": {
      "text/plain": [
       "CommitInfo(commit_url='https://huggingface.co/datasets/BinghamtonUniversity/2024-election-hasan_piker-threads-2k/commit/c8cd3f3c23a37a8f77a94d67309d50a5100e212a', commit_message='Upload dataset', commit_description='', oid='c8cd3f3c23a37a8f77a94d67309d50a5100e212a', pr_url=None, pr_revision=None, pr_num=None)"
      ]
     },
     "execution_count": 11,
     "metadata": {},
     "output_type": "execute_result"
    }
   ],
   "source": [
    "import os\n",
    "from dotenv import load_dotenv\n",
    "load_dotenv()\n",
    "\n",
    "# push curated dataset to huggingface\n",
    "subset.push_to_hub(f\"{HUGGINGFACE_USER}/{HUGGINGFACE_SUBSET_DATASET}\", token=os.getenv(\"HF_TOKEN\"))"
   ]
  }
 ],
 "metadata": {
  "kernelspec": {
   "display_name": "Python (unsloth_env)",
   "language": "python",
   "name": "unsloth_env"
  },
  "language_info": {
   "codemirror_mode": {
    "name": "ipython",
    "version": 3
   },
   "file_extension": ".py",
   "mimetype": "text/x-python",
   "name": "python",
   "nbconvert_exporter": "python",
   "pygments_lexer": "ipython3",
   "version": "3.10.15"
  }
 },
 "nbformat": 4,
 "nbformat_minor": 2
}
