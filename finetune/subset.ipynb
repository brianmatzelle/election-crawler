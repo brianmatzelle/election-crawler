{
 "cells": [
  {
   "cell_type": "markdown",
   "metadata": {},
   "source": [
    "# About\n",
    "This notebook is used to create a subset of the dataset for finetuning a GPT-style conversational language model."
   ]
  },
  {
   "cell_type": "code",
   "execution_count": 36,
   "metadata": {},
   "outputs": [],
   "source": [
    "from loguru import logger"
   ]
  },
  {
   "cell_type": "code",
   "execution_count": 37,
   "metadata": {},
   "outputs": [],
   "source": [
    "# Config\n",
    "SUBREDDITS = ['hasan_piker']"
   ]
  },
  {
   "cell_type": "code",
   "execution_count": 38,
   "metadata": {},
   "outputs": [
    {
     "name": "stderr",
     "output_type": "stream",
     "text": [
      "\u001b[32m2024-11-27 00:01:57.342\u001b[0m | \u001b[1mINFO    \u001b[0m | \u001b[36mutils\u001b[0m:\u001b[36mto_k\u001b[0m:\u001b[36m36\u001b[0m - \u001b[1m643k rows\u001b[0m\n",
      "\u001b[32m2024-11-27 00:01:57.343\u001b[0m | \u001b[1mINFO    \u001b[0m | \u001b[36m__main__\u001b[0m:\u001b[36m<module>\u001b[0m:\u001b[36m6\u001b[0m - \u001b[1mPrefilter dataset size: 643k\u001b[0m\n"
     ]
    },
    {
     "data": {
      "text/plain": [
       "{'conversations': [{'content': 'You are a redditor, having a conversation with another redditor.',\n",
       "   'role': 'system'},\n",
       "  {'content': \"On 270ToWin's website, North Carolina is now beige and South Carolina is now a lighter shade of red.\",\n",
       "   'role': 'user'},\n",
       "  {'content': 'It would be awesome to clean sweep the east coast.',\n",
       "   'role': 'assistant'}],\n",
       " 'metadata': {'post': {'author': 'MrMockTurtle',\n",
       "   'downvotes': 0,\n",
       "   'flair': '📊 Poll',\n",
       "   'score': 59,\n",
       "   'suggested_sort': None,\n",
       "   'upvote_ratio': 0.98,\n",
       "   'upvotes': 59},\n",
       "  'subreddit': {'name': 'democrats', 'subscribers': 465882}}}"
      ]
     },
     "execution_count": 38,
     "metadata": {},
     "output_type": "execute_result"
    }
   ],
   "source": [
    "from datasets import load_dataset\n",
    "dataset = load_dataset(\"brianmatzelle/2024-election-subreddit-threads-643k\", split = \"train\")\n",
    "prefilter_size = len(dataset)\n",
    "\n",
    "from utils import to_k\n",
    "logger.info(f\"Prefilter dataset size: {to_k(prefilter_size)}\")\n",
    "dataset[0]"
   ]
  },
  {
   "cell_type": "code",
   "execution_count": null,
   "metadata": {},
   "outputs": [
    {
     "name": "stderr",
     "output_type": "stream",
     "text": [
      "\u001b[32m2024-11-27 00:02:19.503\u001b[0m | \u001b[1mINFO    \u001b[0m | \u001b[36m__main__\u001b[0m:\u001b[36m<module>\u001b[0m:\u001b[36m13\u001b[0m - \u001b[1mSubreddit ranking:\n",
      "[('politics', 308399), ('destiny', 89524), ('conservative', 43101), ('neoliberal', 40793), ('democrats', 34886), ('thedavidpakmanshow', 23745), ('vaushv', 13264), ('hasan_piker', 10740), ('republican', 10720), ('libertarian', 9904), ('jordanpeterson', 9247), ('samharris', 8719), ('worldnews', 7638), ('themajorityreport', 6382), ('socialism', 6035), ('news', 4728), ('seculartalk', 4242), ('joerogan', 4111), ('millenials', 3049), ('economics', 1761), ('daverubin', 1733), ('benshapiro', 716), ('progressive', 159)]\u001b[0m\n"
     ]
    },
    {
     "name": "stdout",
     "output_type": "stream",
     "text": [
      "1. r/politics: 308399 posts\n",
      "2. r/destiny: 89524 posts\n",
      "3. r/conservative: 43101 posts\n",
      "4. r/neoliberal: 40793 posts\n",
      "5. r/democrats: 34886 posts\n",
      "6. r/thedavidpakmanshow: 23745 posts\n",
      "7. r/vaushv: 13264 posts\n",
      "8. r/hasan_piker: 10740 posts\n",
      "9. r/republican: 10720 posts\n",
      "10. r/libertarian: 9904 posts\n",
      "11. r/jordanpeterson: 9247 posts\n",
      "12. r/samharris: 8719 posts\n",
      "13. r/worldnews: 7638 posts\n",
      "14. r/themajorityreport: 6382 posts\n",
      "15. r/socialism: 6035 posts\n",
      "16. r/news: 4728 posts\n",
      "17. r/seculartalk: 4242 posts\n",
      "18. r/joerogan: 4111 posts\n",
      "19. r/millenials: 3049 posts\n",
      "20. r/economics: 1761 posts\n",
      "21. r/daverubin: 1733 posts\n",
      "22. r/benshapiro: 716 posts\n",
      "23. r/progressive: 159 posts\n"
     ]
    }
   ],
   "source": [
    "from collections import Counter\n",
    "\n",
    "# Count the posts in each subreddit\n",
    "subreddit_counts = Counter(post['metadata']['subreddit']['name'] for post in dataset)\n",
    "# Sort by the number of posts in descending order\n",
    "ranked_subreddits = sorted(subreddit_counts.items(), key=lambda x: x[1], reverse=True)\n",
    "\n",
    "# Print the ranking\n",
    "for i, (subreddit, count) in enumerate(ranked_subreddits, start=1):\n",
    "    for post in dataset:\n",
    "        if post['metadata']['subreddit']['name'] == subreddit:\n",
    "            subscribers = post['metadata']['subreddit']['subscribers']\n",
    "    print(f\"{i}. r/{subreddit}: {count} posts, {subscribers} subscribers\")\n",
    "\n",
    "# Optionally log the results if needed\n",
    "logger.info(f\"Subreddit ranking:\\n{ranked_subreddits}\")"
   ]
  },
  {
   "cell_type": "code",
   "execution_count": 40,
   "metadata": {},
   "outputs": [
    {
     "name": "stderr",
     "output_type": "stream",
     "text": [
      "\u001b[32m2024-11-27 00:02:19.543\u001b[0m | \u001b[1mINFO    \u001b[0m | \u001b[36mutils\u001b[0m:\u001b[36mto_k\u001b[0m:\u001b[36m36\u001b[0m - \u001b[1m632k rows\u001b[0m\n",
      "\u001b[32m2024-11-27 00:02:19.544\u001b[0m | \u001b[1mINFO    \u001b[0m | \u001b[36m__main__\u001b[0m:\u001b[36m<module>\u001b[0m:\u001b[36m2\u001b[0m - \u001b[1mFiltered 632k posts from the dataset\u001b[0m\n",
      "\u001b[32m2024-11-27 00:02:19.545\u001b[0m | \u001b[1mINFO    \u001b[0m | \u001b[36mutils\u001b[0m:\u001b[36mto_k\u001b[0m:\u001b[36m36\u001b[0m - \u001b[1m10k rows\u001b[0m\n",
      "\u001b[32m2024-11-27 00:02:19.546\u001b[0m | \u001b[1mINFO    \u001b[0m | \u001b[36m__main__\u001b[0m:\u001b[36m<module>\u001b[0m:\u001b[36m5\u001b[0m - \u001b[1mDataset size: 10k posts\u001b[0m\n"
     ]
    },
    {
     "data": {
      "text/plain": [
       "{'conversations': [{'content': 'You are a redditor, having a conversation with another redditor.',\n",
       "   'role': 'system'},\n",
       "  {'content': 'I just got done arguing in the comments of the r/codyko_snark about Hasans reaction to Deangelo’s video. Gen Z’s feel his reaction was untimely, and without substance. Specifically calling both of those “red flags,” and in general being dissatisfied with the way he shed light on it…. Am I the only one who thinks what he spoke about was completely sufficient? Like he’s a political commentator who’s been invited into live national tv shows, not a YouTube, drama, etc. channel. I know what happened between Cody and Tana was a crime, not drama. But would it not be incredibly inappropriate to stop talking about Palestinians getting murdered, and the dire spot our election is to dissect this entire situation? There are massive YouTube channels that are in that realm of content and have made their in depth analysis. Why are people attacking Hasan like this is anywhere near his political wheelhouse?\\n\\nEdit: it’s been made apparent to me I need to clarify I am not a member of above subreddit hahaha it was a post suggested to me because I’m in a Hasan subreddit. As the post was directly mentioning Hasan in its title ',\n",
       "   'role': 'user'},\n",
       "  {'content': \"To be honest, it's irrelevant to me whether Hasan covered the Cody Ko stuff because I don't know who he is and Hasan has not previously talked about him on stream as far as I know. Similarly with Dr. Disrespect. The only time I cared about Hasan covering allegations on stream was with Andrew Callaghan because Hasan promoted Channel 5 heavily on his stream and Andrew appeared as a guest multiple times.\",\n",
       "   'role': 'assistant'},\n",
       "  {'content': 'Yeah I agree, I should’ve made it more clear in the post that I wasn’t a member of said subreddit, I just saw the post a suggestion because it had Hasans name in the title. I didn’t even know Hasan talked about in his stream until stumbling across said post. I didn’t watch his videos on Dr. D if I’m being completely blunt. But agreed on the Andrew C, he directly supported him so I was more involved in that',\n",
       "   'role': 'user'}],\n",
       " 'metadata': {'post': {'author': 'asdfghjkl7280',\n",
       "   'downvotes': 0,\n",
       "   'flair': 'Serious',\n",
       "   'score': 347,\n",
       "   'suggested_sort': None,\n",
       "   'upvote_ratio': 0.92,\n",
       "   'upvotes': 347},\n",
       "  'subreddit': {'name': 'hasan_piker', 'subscribers': 140874}}}"
      ]
     },
     "execution_count": 40,
     "metadata": {},
     "output_type": "execute_result"
    }
   ],
   "source": [
    "dataset = dataset.filter(lambda x: x['metadata']['subreddit']['name'] in SUBREDDITS)\n",
    "logger.info(f\"Filtered {to_k(prefilter_size - len(dataset))} posts from the dataset\")\n",
    "del prefilter_size\n",
    "\n",
    "logger.info(f\"Dataset size: {to_k(len(dataset))} posts\")\n",
    "dataset[0]"
   ]
  },
  {
   "cell_type": "code",
   "execution_count": null,
   "metadata": {},
   "outputs": [],
   "source": []
  }
 ],
 "metadata": {
  "kernelspec": {
   "display_name": "Python (unsloth_env)",
   "language": "python",
   "name": "unsloth_env"
  },
  "language_info": {
   "codemirror_mode": {
    "name": "ipython",
    "version": 3
   },
   "file_extension": ".py",
   "mimetype": "text/x-python",
   "name": "python",
   "nbconvert_exporter": "python",
   "pygments_lexer": "ipython3",
   "version": "3.10.15"
  }
 },
 "nbformat": 4,
 "nbformat_minor": 2
}
