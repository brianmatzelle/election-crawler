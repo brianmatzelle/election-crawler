{
 "cells": [
  {
   "cell_type": "markdown",
   "metadata": {},
   "source": [
    "use unsloth env for this on colab"
   ]
  },
  {
   "cell_type": "code",
   "execution_count": 11,
   "metadata": {
    "colab": {
     "base_uri": "https://localhost:8080/"
    },
    "id": "s4QzL28ClRr8",
    "outputId": "f590abae-b084-470b-ff83-d105bf233720"
   },
   "outputs": [
    {
     "name": "stdout",
     "output_type": "stream",
     "text": [
      "Drive already mounted at /content/drive; to attempt to forcibly remount, call drive.mount(\"/content/drive\", force_remount=True).\n"
     ]
    }
   ],
   "source": [
    "from google.colab import drive\n",
    "drive.mount('/content/drive')"
   ]
  },
  {
   "cell_type": "code",
   "execution_count": null,
   "metadata": {
    "colab": {
     "base_uri": "https://localhost:8080/"
    },
    "id": "GhEEIFvMlW6b",
    "outputId": "d76d7e9a-4812-479c-d224-4ffe4c7d8ee7"
   },
   "outputs": [
    {
     "name": "stdout",
     "output_type": "stream",
     "text": [
      "Requirement already satisfied: loguru in /usr/local/lib/python3.10/dist-packages (0.7.2)\n"
     ]
    }
   ],
   "source": [
    "%pip install loguru"
   ]
  },
  {
   "cell_type": "code",
   "execution_count": 13,
   "metadata": {
    "id": "gp7Bs6MFlH72"
   },
   "outputs": [],
   "source": [
    "from loguru import logger"
   ]
  },
  {
   "cell_type": "code",
   "execution_count": null,
   "metadata": {
    "id": "fsHLmWPZlhyU"
   },
   "outputs": [],
   "source": [
    "# config.py\n",
    "# Description: Configuration file for the finetune module, could eventually be used as flags\n",
    "FILE_NAME = 'posts-11-13-2024'\n",
    "\n",
    "# DONT CHANGE\n",
    "RAW_DATA_FILE = f'/content/drive/My Drive/election crawler/{FILE_NAME}.json' \n",
    "PROCESSED_DATA_FILE = f'/content/drive/My Drive/election crawler/processed/{FILE_NAME}-processed.json'"
   ]
  },
  {
   "cell_type": "code",
   "execution_count": 15,
   "metadata": {
    "id": "29w2FvV9leO-"
   },
   "outputs": [],
   "source": [
    "# utils.py\n",
    "import os\n",
    "\n",
    "def get_unique_filename(file_path):\n",
    "    \"\"\"\n",
    "    Appends a number to the file name if the file already exists.\n",
    "    I always overwrite the file by accident so this is a safety measure lol\n",
    "    \"\"\"\n",
    "    base, ext = os.path.splitext(file_path)\n",
    "    counter = 1\n",
    "    new_file_path = file_path\n",
    "    while os.path.exists(new_file_path):\n",
    "        new_file_path = f\"{base}({counter}){ext}\"\n",
    "        counter += 1\n",
    "    return new_file_path"
   ]
  },
  {
   "cell_type": "code",
   "execution_count": 16,
   "metadata": {
    "id": "RbWhycsolH73"
   },
   "outputs": [],
   "source": [
    "class Post:\n",
    "  def __init__(\n",
    "      self,\n",
    "      id: str,\n",
    "      subreddit: str,\n",
    "      selftext: str,\n",
    "      title: str,\n",
    "      downs: int,\n",
    "      name: str,\n",
    "      upvote_ratio: float,\n",
    "      ups: int,\n",
    "      removed_by_category: str,\n",
    "      link_flair_text: str,\n",
    "      score: int,\n",
    "      author_premium: bool,\n",
    "      edited: bool,\n",
    "      total_awards_received: int,\n",
    "      suggested_sort: str,\n",
    "      no_follow: bool,\n",
    "      created_utc: int,\n",
    "      author_flair_text: str,\n",
    "      author: str,\n",
    "      num_comments: int,\n",
    "      subreddit_subscribers: int,\n",
    "      send_replies: bool,\n",
    "      is_video: bool,\n",
    "      deleted: bool,\n",
    "      comments: list\n",
    "    ):\n",
    "    self.id: str = id\n",
    "    self.subreddit: str = subreddit\n",
    "    self.selftext: str = selftext\n",
    "    self.title: str = title\n",
    "    self.downs: int = downs\n",
    "    self.name: str = name\n",
    "    self.upvote_ratio: float = upvote_ratio\n",
    "    self.ups: int = ups\n",
    "    self.removed_by_category: str = removed_by_category\n",
    "    self.link_flair_text: str = link_flair_text\n",
    "    self.score: int = score\n",
    "    self.author_premium: bool = author_premium\n",
    "    self.edited: bool = edited\n",
    "    self.total_awards_received: int = total_awards_received\n",
    "    self.suggested_sort: str = suggested_sort\n",
    "    self.no_follow: bool = no_follow\n",
    "    self.created_utc: int = created_utc\n",
    "    self.author_flair_text: str = author_flair_text\n",
    "    self.author: str = author\n",
    "    self.num_comments: int = num_comments\n",
    "    self.subreddit_subscribers: int = subreddit_subscribers\n",
    "    self.send_replies: bool = send_replies\n",
    "    self.is_video: bool = is_video\n",
    "    self.deleted: bool = deleted\n",
    "    self.comments: list[Comment] = comments\n",
    "\n",
    "  def to_dict(self):\n",
    "    return {\n",
    "      \"id\": self.id,\n",
    "      \"subreddit\": self.subreddit,\n",
    "      \"selftext\": self.selftext,\n",
    "      \"title\": self.title,\n",
    "      \"downs\": self.downs,\n",
    "      \"name\": self.name,\n",
    "      \"upvote_ratio\": self.upvote_ratio,\n",
    "      \"ups\": self.ups,\n",
    "      \"removed_by_category\": self.removed_by_category,\n",
    "      \"link_flair_text\": self.link_flair_text,\n",
    "      \"score\": self.score,\n",
    "      \"author_premium\": self.author_premium,\n",
    "      \"edited\": self.edited,\n",
    "      \"total_awards_received\": self.total_awards_received,\n",
    "      \"suggested_sort\": self.suggested_sort,\n",
    "      \"no_follow\": self.no_follow,\n",
    "      \"created_utc\": self.created_utc,\n",
    "      \"author_flair_text\": self.author_flair_text,\n",
    "      \"author\": self.author,\n",
    "      \"num_comments\": self.num_comments,\n",
    "      \"subreddit_subscribers\": self.subreddit_subscribers,\n",
    "      \"send_replies\": self.send_replies,\n",
    "      \"is_video\": self.is_video,\n",
    "      \"deleted\": self.deleted,\n",
    "      \"comments\": [comment.to_dict() for comment in self.comments]\n",
    "    }\n",
    "\n",
    "class Comment:\n",
    "  def __init__(\n",
    "    self,\n",
    "    id: str,\n",
    "    total_awards_received: int,\n",
    "    subreddit: str,\n",
    "    replies: list,\n",
    "    no_follow: bool,\n",
    "    author: str,\n",
    "    can_mod_post: bool,\n",
    "    created_utc: int,\n",
    "    parent_id: str,\n",
    "    score: int,\n",
    "    author_fullname: str,\n",
    "    collapsed: bool,\n",
    "    body: str,\n",
    "    edited: bool,\n",
    "    name: str,\n",
    "    is_submitter: bool,\n",
    "    downs: int,\n",
    "    body_html: str,\n",
    "    collapsed_reason: str,\n",
    "    author_premium: bool,\n",
    "    created: int,\n",
    "    author_flair_text: str,\n",
    "    link_id: str,\n",
    "    controversiality: int,\n",
    "    depth: int,\n",
    "    ups: int\n",
    "  ):\n",
    "    self.id: str = id\n",
    "    self.total_awards_received: int = total_awards_received\n",
    "    self.subreddit: str = subreddit\n",
    "    self.replies: list[Comment] = replies\n",
    "    self.no_follow: bool = no_follow\n",
    "    self.author: str = author\n",
    "    self.can_mod_post: bool = can_mod_post\n",
    "    self.created_utc: int = created_utc\n",
    "    self.parent_id: str = parent_id\n",
    "    self.score: int = score\n",
    "    self.author_fullname: str = author_fullname\n",
    "    self.collapsed: bool = collapsed\n",
    "    self.body: str = body\n",
    "    self.edited: bool = edited\n",
    "    self.name: str = name\n",
    "    self.is_submitter: bool = is_submitter\n",
    "    self.downs: int = downs\n",
    "    self.body_html: str = body_html\n",
    "    self.collapsed_reason: str = collapsed_reason\n",
    "    self.author_premium: bool = author_premium\n",
    "    self.created: int = created\n",
    "    self.author_flair_text: str = author_flair_text\n",
    "    self.link_id: str = link_id\n",
    "    self.controversiality: int = controversiality\n",
    "    self.depth: int = depth\n",
    "    self.ups: int = ups\n",
    "\n",
    "  def to_dict(self):\n",
    "    return {\n",
    "      \"id\": self.id,\n",
    "      \"total_awards_received\": self.total_awards_received,\n",
    "      \"subreddit\": self.subreddit,\n",
    "      \"replies\": [reply.to_dict() for reply in self.replies],\n",
    "      \"no_follow\": self.no_follow,\n",
    "      \"author\": self.author,\n",
    "      \"can_mod_post\": self.can_mod_post,\n",
    "      \"created_utc\": self.created_utc,\n",
    "      \"parent_id\": self.parent_id,\n",
    "      \"score\": self.score,\n",
    "      \"author_fullname\": self.author_fullname,\n",
    "      \"collapsed\": self.collapsed,\n",
    "      \"body\": self.body,\n",
    "      \"edited\": self.edited,\n",
    "      \"name\": self.name,\n",
    "      \"is_submitter\": self.is_submitter,\n",
    "      \"downs\": self.downs,\n",
    "      \"body_html\": self.body_html,\n",
    "      \"collapsed_reason\": self.collapsed_reason,\n",
    "      \"author_premium\": self.author_premium,\n",
    "      \"created\": self.created,\n",
    "      \"author_flair_text\": self.author_flair_text,\n",
    "      \"link_id\": self.link_id,\n",
    "      \"controversiality\": self.controversiality,\n",
    "      \"depth\": self.depth,\n",
    "      \"ups\": self.ups\n",
    "    }"
   ]
  },
  {
   "cell_type": "code",
   "execution_count": 17,
   "metadata": {
    "id": "jgpIhuyhlH74"
   },
   "outputs": [],
   "source": [
    "def parse_comment(raw_comment):\n",
    "    \"\"\"Recursively parse a comment and its replies.\"\"\"\n",
    "    replies = []\n",
    "    if raw_comment.get(\"replies\"):  # Check if there are replies\n",
    "        raw_replies = raw_comment[\"replies\"].get(\"data\", {}).get(\"children\", [])\n",
    "        replies = [parse_comment(reply[\"data\"]) for reply in raw_replies if \"data\" in reply]\n",
    "\n",
    "    return Comment(\n",
    "        id=raw_comment[\"id\"],\n",
    "        total_awards_received=raw_comment.get(\"total_awards_received\", 0),\n",
    "        subreddit=raw_comment.get(\"subreddit\", \"\"),\n",
    "        replies=replies,\n",
    "        no_follow=raw_comment.get(\"no_follow\", False),\n",
    "        author=raw_comment.get(\"author\", \"[deleted]\"),\n",
    "        can_mod_post=raw_comment.get(\"can_mod_post\", False),\n",
    "        created_utc=raw_comment.get(\"created_utc\", 0),\n",
    "        parent_id=raw_comment.get(\"parent_id\", \"\"),\n",
    "        score=raw_comment.get(\"score\", 0),\n",
    "        author_fullname=raw_comment.get(\"author_fullname\", \"\"),\n",
    "        collapsed=raw_comment.get(\"collapsed\", False),\n",
    "        body=raw_comment.get(\"body\", \"\"),\n",
    "        edited=raw_comment.get(\"edited\", False),\n",
    "        name=raw_comment.get(\"name\", \"\"),\n",
    "        is_submitter=raw_comment.get(\"is_submitter\", False),\n",
    "        downs=raw_comment.get(\"downs\", 0),\n",
    "        body_html=raw_comment.get(\"body_html\", \"\"),\n",
    "        collapsed_reason=raw_comment.get(\"collapsed_reason\", None),\n",
    "        author_premium=raw_comment.get(\"author_premium\", False),\n",
    "        created=raw_comment.get(\"created\", 0),\n",
    "        author_flair_text=raw_comment.get(\"author_flair_text\", None),\n",
    "        link_id=raw_comment.get(\"link_id\", \"\"),\n",
    "        controversiality=raw_comment.get(\"controversiality\", 0),\n",
    "        depth=raw_comment.get(\"depth\", 0),\n",
    "        ups=raw_comment.get(\"ups\", 0)\n",
    "    )"
   ]
  },
  {
   "cell_type": "code",
   "execution_count": 18,
   "metadata": {
    "id": "um5Z567IlH74"
   },
   "outputs": [],
   "source": [
    "import json\n",
    "with open(RAW_DATA_FILE, \"r\") as f:\n",
    "  raw_posts: list = json.load(f)"
   ]
  },
  {
   "cell_type": "code",
   "execution_count": 19,
   "metadata": {
    "colab": {
     "base_uri": "https://localhost:8080/"
    },
    "id": "DwtJNXGwlH74",
    "outputId": "390d49b5-31ab-4422-aa94-ca38c0792399"
   },
   "outputs": [
    {
     "name": "stderr",
     "output_type": "stream",
     "text": [
      "\u001b[32m2024-11-25 18:42:15.824\u001b[0m | \u001b[1mINFO    \u001b[0m | \u001b[36m__main__\u001b[0m:\u001b[36m<cell line: 54>\u001b[0m:\u001b[36m54\u001b[0m - \u001b[1mdone\u001b[0m\n",
      "\u001b[32m2024-11-25 18:42:15.826\u001b[0m | \u001b[1mINFO    \u001b[0m | \u001b[36m__main__\u001b[0m:\u001b[36m<cell line: 56>\u001b[0m:\u001b[36m56\u001b[0m - \u001b[1mcleaned post structure: dict_keys(['id', 'subreddit', 'selftext', 'title', 'downs', 'name', 'upvote_ratio', 'ups', 'removed_by_category', 'link_flair_text', 'score', 'author_premium', 'edited', 'total_awards_received', 'suggested_sort', 'no_follow', 'created_utc', 'author_flair_text', 'author', 'num_comments', 'subreddit_subscribers', 'send_replies', 'is_video', 'deleted', 'comments'])\u001b[0m\n"
     ]
    }
   ],
   "source": [
    "cleaned_posts: list[Post] = []\n",
    "for raw_post in raw_posts:\n",
    "  post_data = raw_post[\"data\"]\n",
    "  try:\n",
    "    if \"author_premium\" not in post_data:\n",
    "      post_data[\"author_premium\"] = False\n",
    "\n",
    "    post = Post(\n",
    "      id=post_data[\"id\"],\n",
    "      subreddit=post_data[\"subreddit\"],\n",
    "      selftext=post_data[\"selftext\"],\n",
    "      title=post_data[\"title\"],\n",
    "      downs=post_data[\"downs\"],\n",
    "      name=post_data[\"name\"],\n",
    "      upvote_ratio=post_data[\"upvote_ratio\"],\n",
    "      ups=post_data[\"ups\"],\n",
    "      removed_by_category=post_data[\"removed_by_category\"],\n",
    "      link_flair_text=post_data[\"link_flair_text\"],\n",
    "      score=post_data[\"score\"],\n",
    "      author_premium=post_data[\"author_premium\"],\n",
    "      edited=post_data[\"edited\"],\n",
    "      total_awards_received=post_data[\"total_awards_received\"],\n",
    "      suggested_sort=post_data[\"suggested_sort\"],\n",
    "      no_follow=post_data[\"no_follow\"],\n",
    "      created_utc=post_data[\"created_utc\"],\n",
    "      author_flair_text=post_data[\"author_flair_text\"],\n",
    "      author=post_data[\"author\"],\n",
    "      num_comments=post_data[\"num_comments\"],\n",
    "      subreddit_subscribers=post_data[\"subreddit_subscribers\"],\n",
    "      send_replies=post_data[\"send_replies\"],\n",
    "      is_video=post_data[\"is_video\"],\n",
    "      deleted=(post_data[\"removed_by_category\"] == \"deleted\"),\n",
    "      comments=[]\n",
    "    )\n",
    "  except KeyError as e:\n",
    "    logger.error(f\"SKIPPING post={post_data['title']}, error: {e}\")\n",
    "    continue\n",
    "\n",
    "  # logger.info(f\"{post.title} - {post.subreddit} parsed\")\n",
    "  comments = []\n",
    "  for raw_comment in raw_post[\"comments\"].values():\n",
    "      try:\n",
    "          if isinstance(raw_comment, dict) and \"id\" in raw_comment:  # Ensure valid comment structure\n",
    "              comment = parse_comment(raw_comment)\n",
    "              comments.append(comment)\n",
    "      except KeyError as e:\n",
    "          logger.error(f\"SKIPPING comment={raw_comment.get('id', 'unknown')}, error: {e}\")\n",
    "          continue\n",
    "\n",
    "  post.comments = comments\n",
    "\n",
    "  cleaned_posts.append(post)\n",
    "\n",
    "logger.info(\"done\")\n",
    "\n",
    "logger.info(f\"cleaned post structure: {cleaned_posts[0].__dict__.keys()}\")"
   ]
  },
  {
   "cell_type": "code",
   "execution_count": null,
   "metadata": {
    "colab": {
     "base_uri": "https://localhost:8080/"
    },
    "id": "3zdwwH_0lH75",
    "outputId": "e5cedf4f-3bf3-4313-b55b-fb04dc788a5e"
   },
   "outputs": [
    {
     "name": "stderr",
     "output_type": "stream",
     "text": [
      "\u001b[32m2024-11-25 18:43:41.035\u001b[0m | \u001b[1mINFO    \u001b[0m | \u001b[36m__main__\u001b[0m:\u001b[36m<cell line: 10>\u001b[0m:\u001b[36m10\u001b[0m - \u001b[1mprocessed data saved to /content/drive/My Drive/election crawler/processed/posts-11-13-2024.json\u001b[0m\n"
     ]
    }
   ],
   "source": [
    "cleaned_posts_dict = [post.to_dict() for post in cleaned_posts]\n",
    "\n",
    "# os.makedirs(os.path.dirname(PROCESSED_DATA_FILE), exist_ok=True)\n",
    "# unique_output_path = get_unique_filename(PROCESSED_DATA_FILE)\n",
    "\n",
    "\n",
    "with open(PROCESSED_DATA_FILE, \"w\") as f:\n",
    "  json.dump(cleaned_posts_dict, f, indent=2)\n",
    "\n",
    "logger.info(f\"processed data saved to {PROCESSED_DATA_FILE}\")"
   ]
  }
 ],
 "metadata": {
  "accelerator": "TPU",
  "colab": {
   "gpuType": "V28",
   "provenance": []
  },
  "kernelspec": {
   "display_name": "Python (unsloth_env)",
   "language": "python",
   "name": "unsloth_env"
  },
  "language_info": {
   "codemirror_mode": {
    "name": "ipython",
    "version": 3
   },
   "file_extension": ".py",
   "mimetype": "text/x-python",
   "name": "python",
   "nbconvert_exporter": "python",
   "pygments_lexer": "ipython3",
   "version": "3.10.15"
  }
 },
 "nbformat": 4,
 "nbformat_minor": 0
}
