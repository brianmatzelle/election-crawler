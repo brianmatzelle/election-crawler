{
 "cells": [
  {
   "cell_type": "markdown",
   "metadata": {},
   "source": [
    "# START HERE: Make development file\n",
    "This notebook takes the first `RAW_SAMPLE_SIZE` samples out of the 4gb data lake (json file)"
   ]
  },
  {
   "cell_type": "code",
   "execution_count": null,
   "metadata": {},
   "outputs": [],
   "source": [
    "import ijson\n",
    "import json\n",
    "import os"
   ]
  },
  {
   "cell_type": "markdown",
   "metadata": {},
   "source": [
    "## Configuration"
   ]
  },
  {
   "cell_type": "code",
   "execution_count": null,
   "metadata": {},
   "outputs": [],
   "source": [
    "MAX_SIZE = 55255 # this is every post in the dataset, don't change this"
   ]
  },
  {
   "cell_type": "code",
   "execution_count": null,
   "metadata": {},
   "outputs": [],
   "source": [
    "RAW_SAMPLE_SIZE = 25000\n",
    "if RAW_SAMPLE_SIZE > MAX_SIZE:\n",
    "    raise ValueError(f\"RAW_SAMPLE_SIZE cannot be greater than {MAX_SIZE}\")\n",
    "RAW_DATA_PATH = \"json/local/posts-11-13-2024.json\"\n",
    "RAW_DATA_OUTPUT_PATH = f\"json/local/raw_data_DEVELOPMENT_{RAW_SAMPLE_SIZE}.json\""
   ]
  },
  {
   "cell_type": "markdown",
   "metadata": {},
   "source": [
    "## Make development input file\n",
    "pull out the first `RAW_SAMPLE_SIZE` samples unedited"
   ]
  },
  {
   "cell_type": "code",
   "execution_count": null,
   "metadata": {},
   "outputs": [],
   "source": [
    "data = []\n",
    "with open(RAW_DATA_PATH, \"rb\") as f:  # Note: ijson needs binary mode\n",
    "    parser = ijson.items(f, \"item\")  # Assumes JSON is an array of objects\n",
    "    for i, item in enumerate(parser):\n",
    "        if i >= RAW_SAMPLE_SIZE:  # Only get first RAW_SAMPLE_SIZE items\n",
    "            break\n",
    "        data.append(item)\n",
    "\n",
    "# print the first 10 items to verify\n",
    "print(data[:10])"
   ]
  },
  {
   "cell_type": "markdown",
   "metadata": {},
   "source": [
    "#### Convert Decimal to float\n",
    "Raw data contains Decimal fields, which are not serializable by default"
   ]
  },
  {
   "cell_type": "code",
   "execution_count": null,
   "metadata": {},
   "outputs": [],
   "source": [
    "from decimal import Decimal\n",
    "\n",
    "class DecimalEncoder(json.JSONEncoder):\n",
    "  def default(self, obj):\n",
    "    if isinstance(obj, Decimal):\n",
    "      return str(obj)\n",
    "    return json.JSONEncoder.default(self, obj)"
   ]
  },
  {
   "cell_type": "code",
   "execution_count": null,
   "metadata": {},
   "outputs": [],
   "source": [
    "def get_unique_filename(file_path):\n",
    "    \"\"\"\n",
    "    Appends a number to the file name if the file already exists.\n",
    "    I always overwrite the file by accident so this is a safety measure lol\n",
    "    \"\"\"\n",
    "    base, ext = os.path.splitext(file_path)\n",
    "    counter = 1\n",
    "    new_file_path = file_path\n",
    "    while os.path.exists(new_file_path):\n",
    "        new_file_path = f\"{base}({counter}){ext}\"\n",
    "        counter += 1\n",
    "    return new_file_path"
   ]
  },
  {
   "cell_type": "markdown",
   "metadata": {},
   "source": [
    "#### Write the samples to a file for easier development"
   ]
  },
  {
   "cell_type": "code",
   "execution_count": null,
   "metadata": {},
   "outputs": [],
   "source": [
    "os.makedirs(os.path.dirname(RAW_DATA_OUTPUT_PATH), exist_ok=True)\n",
    "\n",
    "unique_output_path = get_unique_filename(RAW_DATA_OUTPUT_PATH)\n",
    "with open(unique_output_path, \"w\", encoding=\"utf-8\") as f:\n",
    "    json.dump(data, f, indent=2, cls=DecimalEncoder)\n",
    "\n",
    "print(f\"Saved {len(data)} posts to {unique_output_path}\")"
   ]
  },
  {
   "cell_type": "markdown",
   "metadata": {},
   "source": [
    "# Done, move on to clean-data.ipynb"
   ]
  }
 ],
 "metadata": {
  "kernelspec": {
   "display_name": "Python (unsloth_env)",
   "language": "python",
   "name": "unsloth_env"
  },
  "language_info": {
   "codemirror_mode": {
    "name": "ipython",
    "version": 3
   },
   "file_extension": ".py",
   "mimetype": "text/x-python",
   "name": "python",
   "nbconvert_exporter": "python",
   "pygments_lexer": "ipython3",
   "version": "3.10.15"
  }
 },
 "nbformat": 4,
 "nbformat_minor": 2
}
